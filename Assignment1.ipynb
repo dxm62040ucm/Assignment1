{
  "nbformat": 4,
  "nbformat_minor": 0,
  "metadata": {
    "colab": {
      "provenance": []
    },
    "kernelspec": {
      "name": "python3",
      "display_name": "Python 3"
    },
    "language_info": {
      "name": "python"
    }
  },
  "cells": [
    {
      "cell_type": "code",
      "execution_count": 1,
      "metadata": {
        "colab": {
          "base_uri": "https://localhost:8080/"
        },
        "id": "pqKjsxVUPTVL",
        "outputId": "81019967-9438-411d-efff-9bdb361abda1"
      },
      "outputs": [
        {
          "output_type": "stream",
          "name": "stdout",
          "text": [
            "Enter a string: python\n",
            "noht\n"
          ]
        }
      ],
      "source": [
        "#Input the string “Python” as a list of characters from console, delete at least 2 characters, reverse the\n",
        "input_string1 = list(input(\"Enter a string: \"))\n",
        "del input_string1[:2]\n",
        "resultant_string1 = input_string1[::-1]\n",
        "print(\"\".join(resultant_string1))"
      ]
    },
    {
      "cell_type": "code",
      "source": [
        "#Take two numbers from user and perform at least 4 arithmetic operations on them.\n",
        "num1 = float(input(\"Enter the first number: \"))\n",
        "num2 = float(input(\"Enter the second number: \"))\n",
        "\n",
        "\n",
        "addition_result = num1 + num2\n",
        "subtraction_result = num1 - num2\n",
        "multiplication_result = num1 * num2\n",
        "\n",
        "\n",
        "if num2 != 0:\n",
        "    division_result = num1 / num2\n",
        "else:\n",
        "    division_result = \"Cannot divide by zero\"\n",
        "\n",
        "print(f\"Addition: {addition_result}\")\n",
        "print(f\"Subtraction: {subtraction_result}\")\n",
        "print(f\"Multiplication: {multiplication_result}\")\n",
        "print(f\"Division: {division_result}\")"
      ],
      "metadata": {
        "colab": {
          "base_uri": "https://localhost:8080/"
        },
        "id": "YqF2ZuNqQ_Vx",
        "outputId": "1c3f9fcd-32b2-4e8c-89d8-1db7bcf8aa6a"
      },
      "execution_count": 2,
      "outputs": [
        {
          "output_type": "stream",
          "name": "stdout",
          "text": [
            "Enter the first number: 11.33\n",
            "Enter the second number: 2\n",
            "Addition: 13.33\n",
            "Subtraction: 9.33\n",
            "Multiplication: 22.66\n",
            "Division: 5.665\n"
          ]
        }
      ]
    },
    {
      "cell_type": "code",
      "source": [
        "#Write a program that accepts a sentence and replace each occurrence of ‘python’ with ‘pythons’.\n",
        "\n",
        "sentence1 = input(\"Enter a sentence: \")\n",
        "\n",
        "modified_sentence = sentence1.replace('python', 'pythons')\n",
        "\n",
        "\n",
        "print(modified_sentence)"
      ],
      "metadata": {
        "colab": {
          "base_uri": "https://localhost:8080/"
        },
        "id": "zY2CHSOtResz",
        "outputId": "d734ecd6-2a43-4791-a212-dd5873df7701"
      },
      "execution_count": 3,
      "outputs": [
        {
          "output_type": "stream",
          "name": "stdout",
          "text": [
            "Enter a sentence: I love playing with python\n",
            "I love playing with pythons\n"
          ]
        }
      ]
    },
    {
      "cell_type": "code",
      "source": [
        "#Use the if statement conditions to write a program to print the letter grade based on an input class score. Use the\n",
        "#grading scheme we are using in this class.\n",
        "class_score = float(input(\"Enter the class score: \"))\n",
        "\n",
        "if class_score >= 90:\n",
        "    grade = 'A'\n",
        "elif class_score >= 80:\n",
        "    grade = 'B'\n",
        "elif class_score >= 70:\n",
        "    grade = 'C'\n",
        "elif class_score >= 60:\n",
        "    grade = 'D'\n",
        "else:\n",
        "    grade = 'F'\n",
        "\n",
        "\n",
        "print(f\"The letter grade for the class score {class_score} is: {grade}\")"
      ],
      "metadata": {
        "colab": {
          "base_uri": "https://localhost:8080/"
        },
        "id": "9KY7MGvkR7bB",
        "outputId": "cfaf4588-acc9-4e33-e46d-5d0a638672fa"
      },
      "execution_count": 4,
      "outputs": [
        {
          "output_type": "stream",
          "name": "stdout",
          "text": [
            "Enter the class score: 77\n",
            "The letter grade for the class score 77.0 is: C\n"
          ]
        }
      ]
    }
  ]
}